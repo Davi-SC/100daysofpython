{
 "cells": [
  {
   "cell_type": "markdown",
   "metadata": {},
   "source": [
    "# What is NumPy?\n",
    "Doc: **https://numpy.org/doc/stable/**\n",
    "\n",
    "NumPy is a fundamental packge for scientific computing in python. It is a library that provides a multidimensional array object and various devired objects, such as such as and matrices, also an assortment of routines for fast operations on arrays(including mathematicl,logical,shape manipulation,sorting,selecting,I/O,discrete Fourier transforms, basic linear algebra, basic sttistical operations, random simulation and much more)\n",
    "\n"
   ]
  },
  {
   "attachments": {
    "image-2.png": {
     "image/png": "[encoded data removed]"
    },
    "image.png": {
     "image/png": "[encoded data removed]"
    }
   },
   "cell_type": "markdown",
   "metadata": {},
   "source": [
    "### What is an Array?\n",
    "\n",
    "Is a structure for storing and retrieving data\n",
    " - One dimensional array: \n",
    " \n",
    "    ![image.png](attachment:image.png)\n",
    " - Two dimensional array(matrix): \n",
    "\n",
    "    ![image-2.png](attachment:image-2.png)\n",
    "\n",
    "In mathematics there are no multimensional matrices, but in computing, a three-dimensional matrix is a three-dimensional array, and there are infinite-dimensional arrays(which are rectangular arrays of infinite extension)\n",
    "In **NumPy** the fundamental array class is called ndarray(it represents an \"N-dimensional array\")\n",
    "\n"
   ]
  },
  {
   "cell_type": "code",
   "execution_count": 1,
   "metadata": {},
   "outputs": [],
   "source": [
    "import numpy as np"
   ]
  },
  {
   "cell_type": "code",
   "execution_count": 17,
   "metadata": {},
   "outputs": [
    {
     "name": "stdout",
     "output_type": "stream",
     "text": [
      "[1 2 3 4 5 6]\n",
      "[10  2  3  4  5  6]\n",
      "[10  2  3]\n",
      "[10  2  3 40  5  6]\n",
      "b Base:  [10  2  3 40  5  6]\n",
      "2\n",
      "c Base:  None\n"
     ]
    }
   ],
   "source": [
    "# Array fundamentals\n",
    "\n",
    "a = np.array([1,2,3,4,5,6])\n",
    "print(a)\n",
    "a[0] = 10\n",
    "print(a)\n",
    "#Python slice nottion can be used for indexing\n",
    "print(a[:3])\n",
    "b = a[3:] #b is a view, and can modificate a. If b were a copy, he couldn't do that\n",
    "b[0] = 40\n",
    "print(a)\n",
    "# The ndarray makes it easy to tell if an array is a view or a copy\n",
    "print('b Base: ',b.base) # will show the base array\n",
    "\n",
    "c = a[1]\n",
    "print(c)\n",
    "print('c Base: ',c.base) # c is a copy"
   ]
  },
  {
   "cell_type": "code",
   "execution_count": 20,
   "metadata": {},
   "outputs": [
    {
     "name": "stdout",
     "output_type": "stream",
     "text": [
      "[[ 1  2  3  4]\n",
      " [ 5  6  7  8]\n",
      " [ 9 10 11 12]]\n",
      "8\n"
     ]
    }
   ],
   "source": [
    "#Two and higher-dimensional array\n",
    "\n",
    "a = np.array([[1,2,3,4],[5,6,7,8],[9,10,11,12]])\n",
    "print(a)\n",
    "print(a[1,3])"
   ]
  },
  {
   "cell_type": "code",
   "execution_count": 29,
   "metadata": {},
   "outputs": [
    {
     "name": "stdout",
     "output_type": "stream",
     "text": [
      "2\n",
      "(3, 4)\n",
      "12\n",
      "int32\n"
     ]
    }
   ],
   "source": [
    "#Array attributes\n",
    "a  = np.array([[1,2,3,4],[5,6,7,8],[9,10,11,12]])\n",
    "\n",
    "print(a.ndim) #ndim shows the number of dimensions\n",
    "\n",
    "print(a.shape) # The shape of n array is  tuble of non-negative integers that specify the number of elements along ech dimension\n",
    "\n",
    "print(a.size) # total number of elements in array \n",
    "\n",
    "print(a.dtype) # data type, arrays are typically homogeneous"
   ]
  },
  {
   "cell_type": "code",
   "execution_count": 44,
   "metadata": {},
   "outputs": [
    {
     "name": "stdout",
     "output_type": "stream",
     "text": [
      "[0. 0.]\n",
      "[[1. 1.]\n",
      " [1. 1.]]\n",
      "[0. 0.]\n",
      "[0 1 2 3 4 5 6 7]\n",
      "[ 2  4  6  8 10 12 14 16 18]\n",
      "[ 0.   2.5  5.   7.5 10. ]\n"
     ]
    }
   ],
   "source": [
    "#Basics arrays\n",
    "print(np.zeros(2))\n",
    "print(np.ones([2,2]))\n",
    "print(np.empty(2)) # may vary\n",
    "print(np.arange(8))\n",
    "print(np.arange(2,20,2))#starts from 2, goes to 20 2 by 2\n",
    "print(np.linspace(0,10,num=5))\n"
   ]
  },
  {
   "cell_type": "code",
   "execution_count": 45,
   "metadata": {},
   "outputs": [
    {
     "name": "stdout",
     "output_type": "stream",
     "text": [
      "[1 1 2 3 5 7 8]\n"
     ]
    }
   ],
   "source": [
    "#adding removing, nd sorting elements\n",
    "arr = np.array([2,1,5,3,7,1,8])\n",
    "print(np.sort(arr))\n",
    "# In addition to sort, which returns a sorted copy of an array, you can use:\n",
    "    # argsort, which is an indirect sort along a specified axis,\n",
    "\n",
    "    # lexsort, which is an indirect stable sort on multiple keys,\n",
    "\n",
    "    # searchsorted, which will find elements in a sorted array, and\n",
    "\n",
    "    # partition, which is a partial sort.\n"
   ]
  },
  {
   "cell_type": "code",
   "execution_count": 48,
   "metadata": {},
   "outputs": [
    {
     "name": "stdout",
     "output_type": "stream",
     "text": [
      "[1 2 3 4 5 6 7 8]\n",
      "[[1 2]\n",
      " [3 4]\n",
      " [5 6]]\n"
     ]
    }
   ],
   "source": [
    "a = np.array([1, 2, 3, 4])\n",
    "b = np.array([5, 6, 7, 8])\n",
    "\n",
    "print(np.concatenate((a,b)))\n",
    "\n",
    "x = np.array([[1, 2], [3, 4]])\n",
    "y = np.array([[5, 6]])\n",
    "print(np.concatenate((x, y), axis=0))"
   ]
  },
  {
   "cell_type": "code",
   "execution_count": 60,
   "metadata": {},
   "outputs": [
    {
     "name": "stdout",
     "output_type": "stream",
     "text": [
      "[0 1 2 3 4 5]\n",
      "[[0 1]\n",
      " [2 3]\n",
      " [4 5]]\n",
      "[[0 1 2 3 4 5]]\n"
     ]
    }
   ],
   "source": [
    "# reshape an array\n",
    "\n",
    "a = np.arange(6)\n",
    "print(a)\n",
    "b = a.reshape(3,2)\n",
    "print(b)\n",
    "c = np.reshape(a, newshape=(1, 6), order='C')\n",
    "print(c)\n"
   ]
  },
  {
   "cell_type": "code",
   "execution_count": 62,
   "metadata": {},
   "outputs": [
    {
     "name": "stdout",
     "output_type": "stream",
     "text": [
      "[1 2 3]\n",
      "1\n",
      "(1, 3)\n",
      "2\n",
      "[[1 2 3]]\n",
      "(3, 1)\n",
      "2\n",
      "[[1]\n",
      " [2]\n",
      " [3]]\n"
     ]
    }
   ],
   "source": [
    "# Transforming 1D array to 2D\n",
    "\n",
    "a = np.array([1,2,3])\n",
    "print(a)\n",
    "print(a.ndim)\n",
    "b = a[np.newaxis,:] # creating a new axis\n",
    "print(b.shape)\n",
    "print(b.ndim)\n",
    "print(b)\n",
    "# Changing the axes, reversing the meaning of the axes\n",
    "c = a[:,np.newaxis]\n",
    "print(c.shape)\n",
    "print(c.ndim)\n",
    "print(c)"
   ]
  },
  {
   "cell_type": "code",
   "execution_count": 64,
   "metadata": {},
   "outputs": [
    {
     "name": "stdout",
     "output_type": "stream",
     "text": [
      "6\n",
      "3\n",
      "1\n",
      "2.0\n"
     ]
    }
   ],
   "source": [
    "#operações com arrays\n",
    "\n",
    "a = np.array([1,2,3])\n",
    "print(a.sum())\n",
    "print(a.max())\n",
    "print(a.min())\n",
    "print(a.mean())"
   ]
  },
  {
   "cell_type": "code",
   "execution_count": 74,
   "metadata": {},
   "outputs": [
    {
     "name": "stdout",
     "output_type": "stream",
     "text": [
      "[[8 6 5 3]\n",
      " [8 4 1 9]]\n"
     ]
    }
   ],
   "source": [
    "#Gerando amostras letoris\n",
    "from numpy.random import default_rng\n",
    "rng = default_rng()\n",
    "aleatorio = rng.integers(10, size= (2,4)) #inteiros aletatorios menores que 10, em um array de dimensão (2,4)\n",
    "print(aleatorio)"
   ]
  },
  {
   "cell_type": "code",
   "execution_count": 75,
   "metadata": {},
   "outputs": [],
   "source": [
    "# Difference between arrys and lists\n",
    "#  - Arrays are homogenous, and Lists are heteregenous\n",
    "#  - Arrays has a  much shorter processing time"
   ]
  }
 ],
 "metadata": {
  "kernelspec": {
   "display_name": "Python 3",
   "language": "python",
   "name": "python3"
  },
  "language_info": {
   "codemirror_mode": {
    "name": "ipython",
    "version": 3
   },
   "file_extension": ".py",
   "mimetype": "text/x-python",
   "name": "python",
   "nbconvert_exporter": "python",
   "pygments_lexer": "ipython3",
   "version": "3.12.8"
  }
 },
 "nbformat": 4,
 "nbformat_minor": 2
}
