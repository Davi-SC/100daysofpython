{
 "cells": [
  {
   "cell_type": "markdown",
   "metadata": {},
   "source": [
    "# Tabelas Hash\n",
    " - Uma tabela hash é o mesmo que um dicionário em Python.\n",
    " - Surgem para resolver o problema de acesso aos dados. Onde a busca de um elemento é feita a partir de uma chave, que é um valor único.\n",
    "\n",
    "### Funções de Hash\n",
    " - Função de Hash: é uma função que recebe uma chave e retorna um valor numérico. Ou seja, a Função hash mapeia strings e numeros.\n",
    " - Requisitos parafunção hash:\n",
    "    - Deve ser consistente: Dado uma chave, a função deve retornar sempre o mesmo valor.\n",
    "    - Deve mapear diferentes palavras para diferentes numeros.\n",
    " - A função hash mapeia strings e as relaciona a numeros para facilitar a busca.\n",
    "\n",
    "Voltando para tabelas hash, elas ocorrem quando colocamos uma função hash em conjunto com um array.\n",
    "A tabela hash é a primeira estrutura de dados que tem lógica adicional aliada, visto que arrays e listas mapeiam diretamente para a memoria, enquanto as tabelas hash usam uma função hash para indicar onde armazenar os dados.\n"
   ]
  },
  {
   "cell_type": "code",
   "execution_count": 27,
   "metadata": {},
   "outputs": [
    {
     "name": "stdout",
     "output_type": "stream",
     "text": [
      "Cadastro realizado com sucesso\n",
      "Cadastro realizado com sucesso\n",
      "Cadastro realizado com sucesso\n",
      "123456789\n",
      "Nome removido com sucesso\n",
      "{'Joao': '123456789', 'Pedro': '456789123'}\n"
     ]
    }
   ],
   "source": [
    "#Lista telefonica com dicionario\n",
    "lista = dict()\n",
    "\n",
    "def inserir(nome, telefone):\n",
    "    if nome in lista:\n",
    "        print(\"Nome ja cadastrado\")\n",
    "    else:\n",
    "        lista[nome] = telefone\n",
    "        print(\"Cadastro realizado com sucesso\")\n",
    "\n",
    "def buscar(nome):\n",
    "    if nome in lista:\n",
    "        print(lista[nome])\n",
    "    else:\n",
    "        print(\"Nome nao encontrado\")\n",
    "\n",
    "def remover(nome):\n",
    "    if nome in lista:\n",
    "        del lista[nome]\n",
    "        print(\"Nome removido com sucesso\")\n",
    "    else:\n",
    "        print(\"Nome nao encontrado\")\n",
    "\n",
    "inserir(\"Joao\", \"123456789\")\n",
    "inserir(\"Maria\", \"987654321\")\n",
    "inserir(\"Pedro\", \"456789123\")\n",
    "buscar(\"Joao\")\n",
    "remover(\"Maria\")\n",
    "print(lista)"
   ]
  },
  {
   "cell_type": "markdown",
   "metadata": {},
   "source": [
    "## Colisões\n",
    "Ocorrem quando duas chaves diferentes geram a mesma posição na tabela hash. Quando isso acontece, a tabela hash resolve a colisão usando uma das seguintes técnicas:\n",
    " - Encadeamento separado: cada posição da tabela hash é uma lista encadeada. Quando uma colisão ocorre, o novo item é adicionado à lista.\n",
    " - Tabela de endereçamento aberto: quando uma colisão ocorre, a tabela hash procura outra posição livre para inserir o novo item.\n",
    " - Tabela de endereçamento fechado: quando uma colisão ocorre, a tabela hash procura outra posição livre para inserir o novo item.\n",
    " - Entre outros"
   ]
  },
  {
   "cell_type": "markdown",
   "metadata": {},
   "source": [
    "## Recapitulando\n",
    "Tabelas hash são uteis para:\n",
    "- Modelar relações entre dois itens;\n",
    "- Filtrar por duplicatas;\n",
    "- Caching/ memorização de dados, em vez de solicitar estes dados do servidor.\n",
    "\n",
    "### Desempenho:\n",
    " - No caso médio as tabelas hash têm tempo de execução O(1) para tudo;\n",
    " - No pior caso, as tabelas hash têm tempo de execução O(n) para tudo."
   ]
  }
 ],
 "metadata": {
  "kernelspec": {
   "display_name": "Python 3",
   "language": "python",
   "name": "python3"
  },
  "language_info": {
   "codemirror_mode": {
    "name": "ipython",
    "version": 3
   },
   "file_extension": ".py",
   "mimetype": "text/x-python",
   "name": "python",
   "nbconvert_exporter": "python",
   "pygments_lexer": "ipython3",
   "version": "3.12.8"
  }
 },
 "nbformat": 4,
 "nbformat_minor": 2
}
