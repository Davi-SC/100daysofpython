{
 "cells": [
  {
   "cell_type": "markdown",
   "metadata": {},
   "source": [
    "# Biblioteca collections\n",
    " - Contém estruturas de dados adicionais que são muito úteis.\n",
    " - Counter: uma coleção onde armazenamos os elementos e a quantidade de vezes que eles aparecem.\n",
    " - namedtuple: uma tupla onde especificamos o nome dos campos.\n",
    " - OrderedDict: um dicionário que lembra a ordem de inserção dos elementos.\n",
    " - defaultdict: um dicionário onde especificamos um valor padrão, caso o chave não exista.\n",
    " - deque: uma lista de alta performance.\n"
   ]
  },
  {
   "cell_type": "code",
   "execution_count": 2,
   "metadata": {},
   "outputs": [
    {
     "name": "stdout",
     "output_type": "stream",
     "text": [
      "Counter({'pao': 3, 'bolo': 3, 'carne': 3, 'farinha': 1, 'melancia': 1})\n",
      "[('pao', 3)]\n"
     ]
    }
   ],
   "source": [
    "#Counter: dicionario que consegue contar ocorrencias\n",
    "from collections import Counter\n",
    "\n",
    "alimentos = [\"pao\", \"bolo\", \"pao\", \"farinha\",\"carne\", \"melancia\",\"bolo\",\"carne\",\"pao\",\"carne\",\"bolo\"]\n",
    "\n",
    "alimentos_contados = Counter(alimentos)\n",
    "print(alimentos_contados)\n",
    "#mostra o que tem mais ocorrencias\n",
    "print(alimentos_contados.most_common(1))"
   ]
  },
  {
   "cell_type": "code",
   "execution_count": 3,
   "metadata": {},
   "outputs": [
    {
     "name": "stdout",
     "output_type": "stream",
     "text": [
      "defaultdict(<class 'list'>, {'abaixo_meta': ['jair', 'pedro'], 'meta1': ['maria', 'joao'], 'meta2': ['carlos', 'joana']})\n"
     ]
    }
   ],
   "source": [
    "#Defaultdict: serve para criar um dicionário com um valor padrão para as chaves que não existem.\n",
    "from collections import defaultdict\n",
    "\n",
    "vendas = {'jair': 100, 'pedro': 200, 'maria': 300, 'joao': 400, 'carlos': 500, 'joana': 600}\n",
    "meta1 = 300\n",
    "meta2 = 500\n",
    "\n",
    "dicionario = defaultdict(list)\n",
    "\n",
    "for vendedor in vendas:\n",
    "    valor_venda = vendas[vendedor]\n",
    "    if valor_venda >= meta2:\n",
    "        dicionario['meta2'].append(vendedor)\n",
    "    elif valor_venda >= meta1:\n",
    "        dicionario['meta1'].append(vendedor)\n",
    "    else:\n",
    "        dicionario['abaixo_meta'].append(vendedor)\n",
    "\n",
    "print(dicionario)"
   ]
  },
  {
   "cell_type": "code",
   "execution_count": 6,
   "metadata": {},
   "outputs": [
    {
     "name": "stdout",
     "output_type": "stream",
     "text": [
      "ChainMap({'bola': 30, 'boneca': 10, 'carro': 45}, {'camisa': 20, 'calca': 30, 'sapato': 50})\n",
      "30\n",
      "20\n"
     ]
    }
   ],
   "source": [
    "#Chainmap: serve para unir varios dicionarios\n",
    "from collections import ChainMap\n",
    "brinquedos = {'bola':30, 'boneca':10, 'carro':45}\n",
    "roupas = {'camisa':20, 'calca':30, 'sapato':50}\n",
    "#unindo os dicionarios\n",
    "estoque = ChainMap(brinquedos,roupas)\n",
    "print(estoque)\n",
    "#acessando os dicionarios\n",
    "print(estoque['bola'])\n",
    "print(estoque['camisa'])\n"
   ]
  },
  {
   "cell_type": "code",
   "execution_count": 8,
   "metadata": {},
   "outputs": [
    {
     "name": "stdout",
     "output_type": "stream",
     "text": [
      "deque(['João', 'Maria', 'José'])\n",
      "deque(['Pedro', 'João', 'Maria', 'José'])\n",
      "deque(['Pedro', 'João', 'Maria'])\n",
      "deque(['João', 'Maria'])\n"
     ]
    }
   ],
   "source": [
    "#deque: é uma lista de tamanho variável que permite inserções e remoções em ambos os lados.\n",
    "#é uma lista duplamente encadeada, ou seja, cada elemento da lista aponta para o próximo e para o anterior.\n",
    "from collections import deque\n",
    "#criando uma deque\n",
    "fila = deque()\n",
    "#adicionando elementos\n",
    "fila.append('João')\n",
    "fila.append('Maria')\n",
    "fila.append('José')\n",
    "print(fila)\n",
    "fila.appendleft('Pedro')\n",
    "print(fila)\n",
    "fila.pop()\n",
    "print(fila)\n",
    "fila.popleft()\n",
    "print(fila)"
   ]
  },
  {
   "cell_type": "code",
   "execution_count": 9,
   "metadata": {},
   "outputs": [
    {
     "name": "stdout",
     "output_type": "stream",
     "text": [
      "Produto(nome='Camiseta', preco=20, quantidade=5)\n",
      "Produto(nome='Calça', preco=50, quantidade=2)\n",
      "Camiseta\n",
      "50\n"
     ]
    }
   ],
   "source": [
    "#named tuple: é uma tupla que tem um nome e é imutável\n",
    "from collections import namedtuple\n",
    "#criando uma named tuple\n",
    "produto = namedtuple(\"Produto\", [\"nome\", \"preco\", \"quantidade\"])\n",
    "\n",
    "produto1 = produto(\"Camiseta\", 20, 5)\n",
    "produto2 = produto(\"Calça\", 50, 2)\n",
    "print(produto1)\n",
    "print(produto2)\n",
    "#acessando os valores da named tuple\n",
    "print(produto1.nome)\n",
    "print(produto2.preco)\n",
    "\n",
    "#A named tuple me lembra as structs do C"
   ]
  }
 ],
 "metadata": {
  "kernelspec": {
   "display_name": "Python 3",
   "language": "python",
   "name": "python3"
  },
  "language_info": {
   "codemirror_mode": {
    "name": "ipython",
    "version": 3
   },
   "file_extension": ".py",
   "mimetype": "text/x-python",
   "name": "python",
   "nbconvert_exporter": "python",
   "pygments_lexer": "ipython3",
   "version": "3.12.8"
  }
 },
 "nbformat": 4,
 "nbformat_minor": 2
}
