{
 "cells": [
  {
   "cell_type": "markdown",
   "metadata": {},
   "source": [
    "# Recursão\n",
    " - Recursão é quando uma função chama ela mesma, é uma forma de resolver problemas que podem ser divididos em subproblemas menores do mesmo tipo.\n",
    " - Caso-base e caso recursivo: o caso-base é o caso em que a função para de chamar ela mesma, e o caso recursivo é o caso em que a função chama ela mesma."
   ]
  },
  {
   "cell_type": "code",
   "execution_count": 4,
   "metadata": {},
   "outputs": [
    {
     "name": "stdout",
     "output_type": "stream",
     "text": [
      "Fatorial de 5 = 120\n"
     ]
    }
   ],
   "source": [
    "# fatorial\n",
    "\n",
    "def fat(n):\n",
    "    if n == 1:\n",
    "        return 1\n",
    "    else: \n",
    "        return n * fat(n-1)\n",
    "\n",
    "n = int(input(\"Digite um número: \"))\n",
    "print(f\"Fatorial de {n} = {fat(n)}\")"
   ]
  },
  {
   "cell_type": "code",
   "execution_count": 5,
   "metadata": {},
   "outputs": [
    {
     "name": "stdout",
     "output_type": "stream",
     "text": [
      "15\n"
     ]
    }
   ],
   "source": [
    "#somar vetores sem usar o for\n",
    "\n",
    "def soma(vetor):\n",
    "    if len(vetor) == 1:\n",
    "        return vetor[0]\n",
    "    else:\n",
    "        return vetor[0] + soma(vetor[1:])\n",
    "\n",
    "vetor = [1, 2, 3, 4, 5]\n",
    "print(soma(vetor))"
   ]
  },
  {
   "cell_type": "code",
   "execution_count": 13,
   "metadata": {},
   "outputs": [
    {
     "name": "stdout",
     "output_type": "stream",
     "text": [
      "[0, 1, 2, 3, 4, 5, 6, 7, 8, 9]\n",
      "O valor 4 foi encontrado na posição 4\n"
     ]
    }
   ],
   "source": [
    "#busca binaria com recursao\n",
    "\n",
    "def busca_binaria(lista, item, menor = 0, maior = None):\n",
    "    if maior == None: \n",
    "        maior = len(lista)-1\n",
    "    \n",
    "    if maior < menor:\n",
    "        return -1\n",
    "    \n",
    "    while maior >= menor:\n",
    "        meio = (maior+menor)//2\n",
    "        chute = lista[meio]\n",
    "        if chute == item:\n",
    "            return meio\n",
    "        elif chute > item:\n",
    "            busca_binaria(lista[:meio],item,menor,meio-1)\n",
    "        else: \n",
    "            busca_binaria(lista[meio+1:],item,meio+1,maior)\n",
    "    return -1\n",
    "        \n",
    "lista = list(range(0,10))\n",
    "print(lista)\n",
    "busca = int(input(\"Digite o valor a ser buscado: \"))\n",
    "indice = busca_binaria(lista,busca)\n",
    "if indice != -1:\n",
    "    print(f\"O valor {busca} foi encontrado na posição {indice}\")\n",
    "else:\n",
    "    print(f\"O valor {busca} não foi encontrado\")\n",
    "\n",
    "\n"
   ]
  }
 ],
 "metadata": {
  "kernelspec": {
   "display_name": "Python 3",
   "language": "python",
   "name": "python3"
  },
  "language_info": {
   "codemirror_mode": {
    "name": "ipython",
    "version": 3
   },
   "file_extension": ".py",
   "mimetype": "text/x-python",
   "name": "python",
   "nbconvert_exporter": "python",
   "pygments_lexer": "ipython3",
   "version": "3.12.8"
  }
 },
 "nbformat": 4,
 "nbformat_minor": 2
}
