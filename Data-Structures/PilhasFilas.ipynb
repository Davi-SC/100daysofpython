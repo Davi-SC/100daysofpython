{
 "cells": [
  {
   "cell_type": "markdown",
   "metadata": {},
   "source": [
    "#   Pilhas\n",
    "Pilhas em python são listas que tem a propriedade de serem LIFO (last in first out).\n",
    "Podem ser usadas para resolver problemas de backtracking, como o problema de torre de hanoi\n",
    " \n",
    "#   Filas\n",
    "São listas que tem a propriedade de serem FIFO (first in first out), ou seja, o primeiro a entrar é o primeiro a sair. Podem ser usadas para resolver problemas de fila de banco, por exemplo.\n"
   ]
  },
  {
   "cell_type": "code",
   "execution_count": 21,
   "metadata": {},
   "outputs": [
    {
     "name": "stdout",
     "output_type": "stream",
     "text": [
      "['https://www.facebook.com', 'https://www.youtube.com', 'https://www.google.com']\n",
      "['https://www.youtube.com', 'https://www.google.com']\n",
      "['https://www.google.com']\n"
     ]
    }
   ],
   "source": [
    "# pilhas\n",
    "historico_navegacao = []  #historico_navegacao é a nossa pilha, mas deve ser declarada como uma lista\n",
    "#agora vamos inserir as funções que definem o comportamento da pilha\n",
    "#função para inserir uma pilha, deve inserir o elemento no topo da pilha\n",
    "def visitar(pilha, elemento): \n",
    "    pilha.insert(0,elemento)\n",
    "     \n",
    "\n",
    "#função para remover o elemento do topo da pilha (LIFO)\n",
    "def voltar(pilha): \n",
    "    pilha.pop(0)\n",
    "\n",
    "visitar(historico_navegacao,'https://www.google.com')\n",
    "visitar(historico_navegacao,'https://www.youtube.com')\n",
    "visitar(historico_navegacao,'https://www.facebook.com')\n",
    "\n",
    "print(historico_navegacao)\n",
    "voltar(historico_navegacao)\n",
    "print(historico_navegacao)\n",
    "voltar(historico_navegacao)\n",
    "print(historico_navegacao)"
   ]
  },
  {
   "cell_type": "code",
   "execution_count": 26,
   "metadata": {},
   "outputs": [
    {
     "name": "stdout",
     "output_type": "stream",
     "text": [
      "[1]\n",
      "[1, 2]\n",
      "[1, 2, 3]\n",
      "[1, 2, 3, 4]\n",
      "[2, 3, 4]\n",
      "[3, 4]\n",
      "[4]\n"
     ]
    }
   ],
   "source": [
    "#filas FIFO\n",
    "fila = []\n",
    "\n",
    "def insert(x):\n",
    "    fila.append(x)\n",
    "    print(fila)\n",
    "\n",
    "def remove():\n",
    "    fila.pop(0)\n",
    "    print(fila)\n",
    "    \n",
    "\n",
    "insert(1)\n",
    "insert(2)\n",
    "insert(3)\n",
    "insert(4)\n",
    "remove()\n",
    "remove()\n",
    "remove()\n"
   ]
  }
 ],
 "metadata": {
  "kernelspec": {
   "display_name": "Python 3",
   "language": "python",
   "name": "python3"
  },
  "language_info": {
   "codemirror_mode": {
    "name": "ipython",
    "version": 3
   },
   "file_extension": ".py",
   "mimetype": "text/x-python",
   "name": "python",
   "nbconvert_exporter": "python",
   "pygments_lexer": "ipython3",
   "version": "3.12.8"
  }
 },
 "nbformat": 4,
 "nbformat_minor": 2
}
