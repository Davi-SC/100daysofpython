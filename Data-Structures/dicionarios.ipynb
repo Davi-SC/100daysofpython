{
 "cells": [
  {
   "cell_type": "markdown",
   "metadata": {},
   "source": [
    "Dicionarios sao coleçoes de dados que armazenam dados em pares de chave e valor, cada chave individual tem um valor associado a ela. Além disso, os dicionarios sao mutaveis, ou seja, podem ser alterados."
   ]
  },
  {
   "cell_type": "code",
   "execution_count": 1,
   "metadata": {},
   "outputs": [
    {
     "name": "stdout",
     "output_type": "stream",
     "text": [
      "{'nome': 'João', 'idade': 20, 'curso': 'Engenharia de Software'}\n",
      "João\n",
      "adicionando novo elemento\n",
      "{'nome': 'João', 'idade': 20, 'curso': 'Engenharia de Software', 'nota': 8.5}\n"
     ]
    }
   ],
   "source": [
    "dados_aluno = {\n",
    "    \"nome\": \"João\",\n",
    "    \"idade\": 20,\n",
    "    \"curso\": \"Engenharia de Software\"\n",
    "}\n",
    "print(dados_aluno)\n",
    "print(dados_aluno[\"nome\"])\n",
    "\n",
    "print(\"adicionando novo elemento\")\n",
    "dados_aluno[\"nota\"] = 8.5\n",
    "print(dados_aluno)\n"
   ]
  },
  {
   "cell_type": "code",
   "execution_count": 4,
   "metadata": {},
   "outputs": [
    {
     "name": "stdout",
     "output_type": "stream",
     "text": [
      "{'nome': 'João', 'curso': 'Engenharia de Software'}\n",
      "{'curso': 'Engenharia de Software'}\n"
     ]
    }
   ],
   "source": [
    "\n",
    "dados_aluno = {\n",
    "    \"nome\": \"João\",\n",
    "    \"idade\": 20,\n",
    "    \"curso\": \"Engenharia de Software\"\n",
    "}\n",
    "#codigo pop() para remover item\n",
    "dados_aluno.pop('idade')\n",
    "print(dados_aluno)\n",
    "\n",
    "#del para remover item\n",
    "del dados_aluno['nome']\n",
    "print(dados_aluno)"
   ]
  }
 ],
 "metadata": {
  "kernelspec": {
   "display_name": "Python 3",
   "language": "python",
   "name": "python3"
  },
  "language_info": {
   "codemirror_mode": {
    "name": "ipython",
    "version": 3
   },
   "file_extension": ".py",
   "mimetype": "text/x-python",
   "name": "python",
   "nbconvert_exporter": "python",
   "pygments_lexer": "ipython3",
   "version": "3.12.8"
  }
 },
 "nbformat": 4,
 "nbformat_minor": 2
}
