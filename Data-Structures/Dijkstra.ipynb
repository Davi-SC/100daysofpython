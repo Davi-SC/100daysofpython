{
 "cells": [
  {
   "cell_type": "markdown",
   "metadata": {},
   "source": [
    "# Algoritmo de Dijkstra\n",
    "Este algoritmo calcula o caminho mais curto entre dois vértices em um grafo ponderado. O algoritmo de pesquisa em largura retorna o caminho mais curto entre dois vértices, mas em um grafo ponderado o caminho mais curto não é necessariamente o caminho mais rapido.\n",
    "O algoritmo de Dijkstra tem quatro etapas:\n",
    "1. Encontrar o vértice mais \"barato\", o que consegue chegar em menos tempo.\n",
    "2. Atualizar o tempo de todos os vértices adjacentes a ele.\n",
    "3. Repetir até que todos os vértices tenham sido visitados.\n",
    "4. Calcular o caminho mais curto.\n",
    "#### Terminologias\n",
    "- **Pesos**: Os pesos são os valores que representam a distância entre dois vértices. Um grafo com pesos é chamado de grafo ponderado.\n",
    "- **Ciclos**: Um ciclo indica que é possivel voltar ao ponto de partida, ou seja, começar em um vertice, percorrer todos os vértices e retornar ao ponto de partida.\n",
    "- **Grafo direcionado**: Um grafo direcionado é um grafo onde as arestas têm uma direção.\n",
    "- **Grafo não direcionado**: Um grafo não direcionado é um grafo onde as arestas não têm uma direção. Indica que dois vértices podem apontar um para o outro. Dessa forma, um grafo não direcionado é um ciclo.\n",
    "\n",
    "**O algoritmo de Dijkstra só funciona em grafos não direcionados(sem ciclos).Além disso, ele não funciona se houver arestas com peso negativo, nesses casos, pode ser utilizado o algoritmo de Bellman-Ford.**"
   ]
  },
  {
   "cell_type": "code",
   "execution_count": 5,
   "metadata": {},
   "outputs": [],
   "source": [
    "# implementação\n",
    "# tabela hash para o grafo \n",
    "grafo =  {}\n",
    "grafo[\"inicio\"] = {}\n",
    "grafo[\"inicio\"][\"a\"] = 6 # a é o nó de destino a partir da origem inicio e 6 é o peso\n",
    "grafo[\"inicio\"][\"b\"] = 2\n",
    "grafo[\"a\"] = {}\n",
    "grafo[\"a\"][\"fim\"] = 1\n",
    "grafo[\"b\"] = {}\n",
    "grafo[\"b\"][\"a\"] = 3\n",
    "grafo[\"b\"][\"fim\"] = 5\n",
    "grafo[\"fim\"] = {} #vertice não tem vizinhos\n",
    "\n",
    "# representação do infinito em python\n",
    "infinito = float(\"inf\")\n",
    "# tabela hash para os custos\n",
    "custos = {}\n",
    "custos[\"a\"] = 6\n",
    "custos[\"b\"] = 2\n",
    "custos[\"fim\"] = infinito\n",
    "\n",
    "# tabela hash para os pais\n",
    "pais = {}\n",
    "pais[\"a\"] = \"inicio\"\n",
    "pais[\"b\"] = \"inicio\"\n",
    "pais[\"fim\"] = None"
   ]
  },
  {
   "cell_type": "markdown",
   "metadata": {},
   "source": [
    "### O algoritmo segue a seguinte estrutura:\n",
    " 1. Enquanto houver grafos não visitados\n",
    "\n",
    "    ⬇️⬇️⬇️⬇️⬇️⬇️\n",
    " \n",
    " 2. Pegue o nó mais proximo do nó inicial\n",
    "\n",
    "    ⬇️⬇️⬇️⬇️⬇️⬇️\n",
    "\n",
    " 3. Atualize os custos dos nós vizinhos\n",
    "\n",
    "    ⬇️⬇️⬇️⬇️⬇️⬇️\n",
    "\n",
    " 4. Se qualquer um dos nós vizinhos tiver seu custo atualizado, atualize a tabela de pais\n",
    "\n",
    "    ⬇️⬇️⬇️⬇️⬇️⬇️\n",
    "\n",
    " 5. Marque o vertice como processado\n",
    "\n",
    "    🔁 🔁 Retorne o passo 1"
   ]
  },
  {
   "cell_type": "code",
   "execution_count": 6,
   "metadata": {},
   "outputs": [],
   "source": [
    "processados = []\n",
    "\n",
    "def menor_custo(custos):\n",
    "    menor_custo = float('inf')\n",
    "    nodo_menor_custo = None\n",
    "    for nodo in custos:\n",
    "        custo = custos[nodo]\n",
    "        if custo < menor_custo and nodo not in processados:\n",
    "            menor_custo = custo\n",
    "            nodo_menor_custo = nodo\n",
    "    return nodo_menor_custo\n",
    "\n",
    "nodo = menor_custo(custos)\n",
    "\n",
    "while nodo is not None:\n",
    "    custo = custos[nodo]\n",
    "    vizinhos = grafo[nodo]\n",
    "    for n in vizinhos.keys():\n",
    "        novo_custo = custo + vizinhos[n]\n",
    "        if custos[n] > novo_custo:\n",
    "            custos[n] = novo_custo\n",
    "            pais[n] = nodo\n",
    "    processados.append(nodo)\n",
    "    nodo = menor_custo(custos)"
   ]
  },
  {
   "cell_type": "markdown",
   "metadata": {},
   "source": [
    "## Recapitulando\n",
    " - A busca em largura é usada para encontrar o caminho mais curto entre dois vértices em um grafo não ponderado.\n",
    " - O algoritmo de Dijkstra é usado para encontrar o caminho mais curto entre dois vértices em um grafo ponderado.\n",
    " - O algoritmo de Dijkstra funciona quando todos os pesos são positivos. Em caso de pesos negativos, o algoritmo de Bellman-Ford é usado."
   ]
  }
 ],
 "metadata": {
  "kernelspec": {
   "display_name": "Python 3",
   "language": "python",
   "name": "python3"
  },
  "language_info": {
   "codemirror_mode": {
    "name": "ipython",
    "version": 3
   },
   "file_extension": ".py",
   "mimetype": "text/x-python",
   "name": "python",
   "nbconvert_exporter": "python",
   "pygments_lexer": "ipython3",
   "version": "3.12.8"
  }
 },
 "nbformat": 4,
 "nbformat_minor": 2
}
