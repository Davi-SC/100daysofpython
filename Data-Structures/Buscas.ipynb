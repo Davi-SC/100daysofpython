{
 "cells": [
  {
   "cell_type": "markdown",
   "metadata": {},
   "source": [
    "# Busca Linear\n",
    " - Busca linear ou pesquisa sequencial é um algoritmo de busca que percorre um vetor elemento por elemento até encontrar o elemento procurado ou até o final do vetor.\n",
    " - Esse algoritmo é muito simples, porém não é muito eficiente.\n",
    " - Sua complexidade é O(n)."
   ]
  },
  {
   "cell_type": "code",
   "execution_count": 10,
   "metadata": {},
   "outputs": [
    {
     "name": "stdout",
     "output_type": "stream",
     "text": [
      "[0, 1, 2, 3, 4, 5, 6, 7, 8, 9, 10, 11, 12, 13, 14, 15, 16, 17, 18, 19, 20, 21, 22, 23, 24, 25, 26, 27, 28, 29, 30, 31, 32, 33, 34, 35, 36, 37, 38, 39, 40, 41, 42, 43, 44, 45, 46, 47, 48, 49, 50, 51, 52, 53, 54, 55, 56, 57, 58, 59, 60, 61, 62, 63, 64, 65, 66, 67, 68, 69, 70, 71, 72, 73, 74, 75, 76, 77, 78, 79, 80, 81, 82, 83, 84, 85, 86, 87, 88, 89, 90, 91, 92, 93, 94, 95, 96, 97, 98, 99]\n",
      "O valor 5 foi encontrado na posição 5\n"
     ]
    }
   ],
   "source": [
    "array = list(range(0,100))\n",
    "\n",
    "def busca_linear(array,n) :\n",
    "    for i in range(len(array)):\n",
    "        if array[i] == n:\n",
    "            return i\n",
    "    return -1\n",
    "\n",
    "print(array)\n",
    "busca = int(input(\"Digite o valor a ser buscado: \"))\n",
    "indice = busca_linear(array,busca)\n",
    "if indice != -1:\n",
    "    print(f\"O valor {busca} foi encontrado na posição {indice}\")\n",
    "else:\n",
    "    print(f\"O valor {busca} não foi encontrado\")\n"
   ]
  },
  {
   "cell_type": "markdown",
   "metadata": {},
   "source": [
    "# Busca binaria\n",
    "\n",
    " - Busca binaria é um algoritmo de busca que encontra a posição de um valor em um array ordenado. Funciona pegando o elemento do meio do array e comparando com o valor que estamos procurando. Se o valor for menor, ele procura na metade esquerda, se for maior, procura na metade direita.\n",
    " - Seu tempo de execução é O(log n)"
   ]
  },
  {
   "cell_type": "code",
   "execution_count": 22,
   "metadata": {},
   "outputs": [
    {
     "name": "stdout",
     "output_type": "stream",
     "text": [
      "[0, 1, 2, 3, 4, 5, 6, 7, 8, 9, 10, 11, 12, 13, 14, 15, 16, 17, 18, 19, 20, 21, 22, 23, 24, 25, 26, 27, 28, 29, 30, 31, 32, 33, 34, 35, 36, 37, 38, 39, 40, 41, 42, 43, 44, 45, 46, 47, 48, 49, 50, 51, 52, 53, 54, 55, 56, 57, 58, 59, 60, 61, 62, 63, 64, 65, 66, 67, 68, 69, 70, 71, 72, 73, 74, 75, 76, 77, 78, 79, 80, 81, 82, 83, 84, 85, 86, 87, 88, 89, 90, 91, 92, 93, 94, 95, 96, 97, 98, 99]\n",
      "O valor 50 foi encontrado na posição 50\n"
     ]
    }
   ],
   "source": [
    "def busca_binaria(array, n):\n",
    "    baixo = 0\n",
    "    alto = len(array) - 1\n",
    "\n",
    "    while baixo <= alto:\n",
    "        meio = (baixo + alto) // 2\n",
    "        chute = array[meio]\n",
    "        if chute == n:\n",
    "            return meio\n",
    "        if chute > n:\n",
    "            alto = meio - 1\n",
    "        else:\n",
    "            baixo = meio + 1\n",
    "    return -1\n",
    "\n",
    "array = list(range(0,100))\n",
    "print(array)\n",
    "busca = int(input(\"Digite o valor a ser buscado: \"))\n",
    "indice = busca_binaria(array,busca)\n",
    "if indice != -1:\n",
    "    print(f\"O valor {busca} foi encontrado na posição {indice}\")\n",
    "else:\n",
    "    print(f\"O valor {busca} não foi encontrado\")"
   ]
  }
 ],
 "metadata": {
  "kernelspec": {
   "display_name": "Python 3",
   "language": "python",
   "name": "python3"
  },
  "language_info": {
   "codemirror_mode": {
    "name": "ipython",
    "version": 3
   },
   "file_extension": ".py",
   "mimetype": "text/x-python",
   "name": "python",
   "nbconvert_exporter": "python",
   "pygments_lexer": "ipython3",
   "version": "3.12.8"
  }
 },
 "nbformat": 4,
 "nbformat_minor": 2
}
