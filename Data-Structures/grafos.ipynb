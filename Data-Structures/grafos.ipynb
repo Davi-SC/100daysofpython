{
 "cells": [
  {
   "cell_type": "markdown",
   "metadata": {},
   "source": [
    "# Grafos\n",
    "\n",
    "Um modelo de grafos é um conjunto de conexões. As conexões são representadas por vertices e arestas. Os grafos são usados para representar relações entre objetos e podem ser usados para resolver problemas de otimização\n",
    "\n",
    "## Pesquisa em largura\n",
    "Pesquisa em largura(ou busca em largura, do ingles Breadth-First Search - BFS) é um algoritmo para pesquisar em grafos.\n",
    "A busca em largura é um algoritmo de pesquisa que utiliza grafos, que ajuda a encontrar o caminho entre dois nós, se existir, e descobrir o mais curto entre esses dois nós.\n",
    "\n",
    "### Implementando o grafo\n",
    "Podemos implementar um grafo com uma tabela hash/dicionario, mapeando um vertice a todos os seus vizinhos. O vertice é a chave e os vizinhos são os valores.\n",
    " - Exemplo do livro \"Entendendo Algoritmos\", pagina 127: \n",
    "        \n",
    "       grafo = {}\n",
    "\n",
    "       grafo[\"voce\"] = [\"alice\", \"bob\", \"claire\"]\n",
    "\n",
    "       grafo[\"bob\"] = [\"anuj\", \"peggy\"]\n",
    "\n",
    "       grafo[\"alice\"] = [\"peggy\"]\n",
    "        \n",
    "       ...\n",
    "\n",
    "### Implementando a busca em largura\n",
    "A implementação da busca em largura é feita com uma fila. Que funcionara adicionando todos os vertices que devem ser verificados e removendo um vertice para verificar se ele é o alvo. Codigo abaixo:"
   ]
  },
  {
   "cell_type": "code",
   "execution_count": 8,
   "metadata": {},
   "outputs": [
    {
     "name": "stdout",
     "output_type": "stream",
     "text": [
      "thom é um vendedor de manga!\n"
     ]
    },
    {
     "data": {
      "text/plain": [
       "True"
      ]
     },
     "execution_count": 8,
     "metadata": {},
     "output_type": "execute_result"
    }
   ],
   "source": [
    "from collections import deque\n",
    "\n",
    "\n",
    "#criando o grafo e adicionando os vizinhos\n",
    "grafo = {}\n",
    "grafo[\"voce\"] = [\"alice\", \"bob\", \"claire\"]\n",
    "grafo[\"bob\"] = [\"anuj\", \"peggy\"]\n",
    "grafo[\"alice\"] = [\"peggy\"]\n",
    "grafo[\"claire\"] = [\"thom\", \"jonny\"]\n",
    "grafo[\"anuj\"] = []\n",
    "grafo[\"peggy\"] = []\n",
    "grafo[\"thom\"] = []\n",
    "grafo[\"jonny\"] = []\n",
    "\n",
    "#criando a função para verificar se a pessoa é um vendedor de manga\n",
    "def verificar(pessoa):\n",
    "    return pessoa[-1] == \"m\"\n",
    "\n",
    "def pesquisa_largura(grafo):\n",
    "    #criando a fila e adicionando os vizinhos do inicio\n",
    "    fila = deque()\n",
    "    fila += grafo[\"voce\"]\n",
    "    #criando a variavel para verificar se a pessoa é um vendedor de manga\n",
    "    verificados=[]\n",
    "    while fila:\n",
    "        pessoa = fila.popleft()\n",
    "        if not pessoa in verificados:\n",
    "            if verificar(pessoa):\n",
    "                print(pessoa + \" é um vendedor de manga!\")\n",
    "                return True\n",
    "            else:\n",
    "                verificados.append(pessoa)\n",
    "                fila += grafo[pessoa]\n",
    "    print(\"Não existe vendedor de manga\")\n",
    "    return False\n",
    "\n",
    "pesquisa_largura(grafo)\n"
   ]
  }
 ],
 "metadata": {
  "kernelspec": {
   "display_name": "Python 3",
   "language": "python",
   "name": "python3"
  },
  "language_info": {
   "codemirror_mode": {
    "name": "ipython",
    "version": 3
   },
   "file_extension": ".py",
   "mimetype": "text/x-python",
   "name": "python",
   "nbconvert_exporter": "python",
   "pygments_lexer": "ipython3",
   "version": "3.12.8"
  }
 },
 "nbformat": 4,
 "nbformat_minor": 2
}
