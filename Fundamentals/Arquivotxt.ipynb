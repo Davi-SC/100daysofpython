{
 "cells": [
  {
   "cell_type": "markdown",
   "metadata": {},
   "source": [
    "f=open[nomedoarquivo,modo] -->(string,string)\n",
    "f=open(\"teste.txt\",\"w\")-->cria um arquivo\n",
    "    - modo \"r\" abre um aquivo para leitura (padrão)\n",
    "    - modo \"w\" abre um arquivo para escrita (cria um novo arquivo se não existir)\n",
    "    - modo \"a\" abre um arquivo para escrita, adicionando o conteúdo ao final do arquivo\n",
    "    - modo \"b\" abre um arquivo em modo binário\n",
    "    - modo \"r+\" abre um arquivo para leitura e escrita, não cria um novo arquivo\n",
    "    - modo \"w+\" abre um arquivo para leitura e escrita, cria um novo arquivo se não existir, descarta o conteúdo antigo se existir\n",
    "    - modo \"a+\" abre um arquivo para leitura e escrita, adicionando o conteúdo ao final do arquivo"
   ]
  },
  {
   "cell_type": "code",
   "execution_count": 5,
   "metadata": {},
   "outputs": [],
   "source": [
    "f = open(\"texto.txt\",\"w\")\n",
    "for i in range(10):\n",
    "    f.write(\"This is line %d\\n\" % (i+1))\n",
    "\n",
    "f.close()"
   ]
  },
  {
   "cell_type": "markdown",
   "metadata": {},
   "source": [
    "Adicionando dados a um arquivo"
   ]
  },
  {
   "cell_type": "code",
   "execution_count": 6,
   "metadata": {},
   "outputs": [],
   "source": [
    "f = open(\"texto.txt\",\"a\")\n",
    "f.write(\"Ultima linha\\n\")\n",
    "f.close()"
   ]
  },
  {
   "cell_type": "markdown",
   "metadata": {},
   "source": [
    "Lendo um arquivo"
   ]
  },
  {
   "cell_type": "code",
   "execution_count": 8,
   "metadata": {},
   "outputs": [
    {
     "name": "stdout",
     "output_type": "stream",
     "text": [
      "This is line 1\n",
      "This is line 2\n",
      "This is line 3\n",
      "This is line 4\n",
      "This is line 5\n",
      "This is line 6\n",
      "This is line 7\n",
      "This is line 8\n",
      "This is line 9\n",
      "This is line 10\n",
      "Ultima linha\n",
      "\n"
     ]
    }
   ],
   "source": [
    "f = open(\"./texto.txt\",\"r\")\n",
    "conteudo = f.read()\n",
    "f.close()\n",
    "print(conteudo)"
   ]
  },
  {
   "cell_type": "code",
   "execution_count": 9,
   "metadata": {},
   "outputs": [
    {
     "data": {
      "text/plain": [
       "str"
      ]
     },
     "execution_count": 9,
     "metadata": {},
     "output_type": "execute_result"
    }
   ],
   "source": [
    "type(conteudo)"
   ]
  },
  {
   "cell_type": "markdown",
   "metadata": {},
   "source": [
    "Armazenando o arquivo em listas"
   ]
  },
  {
   "cell_type": "code",
   "execution_count": 10,
   "metadata": {},
   "outputs": [
    {
     "name": "stdout",
     "output_type": "stream",
     "text": [
      "['This is line 1\\n', 'This is line 2\\n', 'This is line 3\\n', 'This is line 4\\n', 'This is line 5\\n', 'This is line 6\\n', 'This is line 7\\n', 'This is line 8\\n', 'This is line 9\\n', 'This is line 10\\n', 'Ultima linha\\n']\n"
     ]
    }
   ],
   "source": [
    "f = open(\"texto.txt\",\"r\")\n",
    "conteudo = f.readlines()\n",
    "f.close()\n",
    "print(conteudo)"
   ]
  },
  {
   "cell_type": "markdown",
   "metadata": {},
   "source": [
    "Armazenando vetores em arquivos"
   ]
  },
  {
   "cell_type": "code",
   "execution_count": 12,
   "metadata": {},
   "outputs": [],
   "source": [
    "import numpy as np\n",
    "vetor = np.array([[1,2,3,4,5],[6,7,8,9,10]])\n",
    "np.savetxt(\"vetor.txt\",vetor, fmt=\"%.2f\",header=\"A,B,C,D,E\")"
   ]
  },
  {
   "cell_type": "code",
   "execution_count": 13,
   "metadata": {},
   "outputs": [
    {
     "name": "stdout",
     "output_type": "stream",
     "text": [
      "[[ 1.  2.  3.  4.  5.]\n",
      " [ 6.  7.  8.  9. 10.]]\n"
     ]
    }
   ],
   "source": [
    "meuvetor = np.loadtxt(\"vetor.txt\")\n",
    "print(meuvetor)"
   ]
  }
 ],
 "metadata": {
  "kernelspec": {
   "display_name": "Python 3",
   "language": "python",
   "name": "python3"
  },
  "language_info": {
   "codemirror_mode": {
    "name": "ipython",
    "version": 3
   },
   "file_extension": ".py",
   "mimetype": "text/x-python",
   "name": "python",
   "nbconvert_exporter": "python",
   "pygments_lexer": "ipython3",
   "version": "3.12.8"
  }
 },
 "nbformat": 4,
 "nbformat_minor": 2
}
