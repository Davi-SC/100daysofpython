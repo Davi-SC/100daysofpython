{
 "cells": [
  {
   "cell_type": "markdown",
   "metadata": {},
   "source": [
    "# Introducao a Machine Learning\n",
    "\n",
    "### O que é Machine Learning?\n",
    "Aprendizado de Máquina é um campo de estudo que possibilita aos computadores aprender a partir de dados e experiências anteriores, sem que seja explicitamente programado.(Arthur Samuel, 1959)\n",
    " \n",
    "### Tipos de aprendizado de máquina\n",
    "Os sistemas de aprendizado de máquina podem ser classificados a partir do tipo de supervisão que eles recebem. Neste sentido, podemos classificar os sistemas de aprendizado de máquina em quatro tipos:\n",
    " - **Aprendizado supervisionado**: é o tipo de aprendizado onde o sistema de aprendizado de máquina recebe um conjunto de dados rotulados, ou seja, com as respostas corretas. O objetivo é que o sistema aprenda a partir dos dados rotulados e consiga generalizar para novos dados. Alguns algoritmos de aprendizado de máquina que usam aprendizado supervisionado são: regressão linear, regressão logística, árvores de decisão e florests aleátorias, redes neurais, entre outros.\n",
    " - **Aprendizado não supervisionado**: é o tipo de aprendizado onde o sistema de aprendizado de máquina recebe um conjunto de dados não rotulados, ou seja, sem as respostas corretas. Alguns algoritmos de aprendizado de máquina que usam aprendizado não supervisionado são: clusterização(k-means,DBSCAN,HCA), detecção de anomalias e novidades(One-class SVM, Isolation Forest), visualização e redução de dimensionalidade(Analise de componentes principais,Kernel ACP), entre outros.\n",
    " - **Aprendizado semissupervisionado**: Alguns algoritmos conseguem lidar com dados parcialmente rotulados, ou seja, alguns dados são rotulados e outros não, isso se chama aprendizado semissupervisionado. Alguns algoritmos de hospedagem de fotos, como o Google Photos, são bons exemplos. A maior parte dos algoritmos semissupervisionados são combinações de aprendizado supervisionado e não supervisionado, por exemplo, Redes neurais de crença profunda são baseadas em Maquinas de Boltzmann restritas, que são algoritmos de aprendizado não supervisionado, treinadas sequencialmente de forma supervisionada.\n",
    " - **Aprendizado por reforço**:O sistema de aprendizado(*agente*) assiste o ambiente, seleciona e executa ações, e recebe recompensas ou penalidades. Ele deve aprender sozinho a melhor estratégia(*politica*) para maximizar as recompensas. Alguns algoritmos de aprendizado por reforço são: Q-learning, Deep Q-learning, Deep Reinforcement Learning, entre outros.Muitos robos implementam aprendizado por reforço para aprender a realizar tarefas(como andar, pegar objetos, etc).\n",
    "\n",
    "Além do tipo de supervisão, os sistemas de ML podem ser classificados como Batch ou Online(se podem ou não aprender de forma incremental pela entrada de um fluxo de dados)\n",
    " - **Aprendizado em batch(por ciclo)**: O sistema é incapaz de aprender de forma incremental. Primeiro o sistema é treinado, e depois incrementado em produção e roda sem aprender mais nada, apenas aplicando o que aprendeu. Sistemas de aprendizado em batch podem se adaptar às mudanças, basta atualizar os dados e treinar uma nova versão do sistema a partir do zero(isso pode ser automatizado).\n",
    "  - **Aprendizado online(incremental)**: é possivel treinar o sistema forneendo as instancias de dados  de forma sequencial, individual ou em pequenos grupos(mini-batches), cada estapa do aprendizado é rapida e de baixo custo, logo o sistema pode aprender instantaneamente os dados novos em tempo real. Isso torna o aprendizado online ideal para sistemaas que recebem fluxo de dados continuo, ou se os recursos computacionais são limitados(instancias de dados que ja foram utilizadas em treinamento podem ser descartadas o que pode economizar muito espaço)."
   ]
  }
 ],
 "metadata": {
  "language_info": {
   "name": "python"
  }
 },
 "nbformat": 4,
 "nbformat_minor": 2
}
